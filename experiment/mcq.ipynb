{
 "cells": [
  {
   "cell_type": "code",
   "execution_count": 54,
   "metadata": {},
   "outputs": [],
   "source": [
    "import os\n",
    "import json\n",
    "import pandas as pd\n",
    "import traceback\n",
    "import json"
   ]
  },
  {
   "cell_type": "code",
   "execution_count": 55,
   "metadata": {},
   "outputs": [],
   "source": [
    "import os\n",
    "from getpass import getpass\n",
    "from dotenv import load_dotenv\n",
    "\n",
    "load_dotenv()\n",
    "\n",
    "if \"AI21_API_KEY\" not in os.environ:\n",
    "    os.environ[\"AI21_API_KEY\"] = getpass()\n",
    "key = os.getenv(\"AI21_API_KEY\")\n"
   ]
  },
  {
   "cell_type": "code",
   "execution_count": 56,
   "metadata": {},
   "outputs": [],
   "source": [
    "from langchain_ai21 import ChatAI21"
   ]
  },
  {
   "cell_type": "code",
   "execution_count": 57,
   "metadata": {},
   "outputs": [],
   "source": [
    "llm=  ChatAI21(model=\"jamba-instruct\", temperature=0.5)"
   ]
  },
  {
   "cell_type": "code",
   "execution_count": 58,
   "metadata": {},
   "outputs": [
    {
     "data": {
      "text/plain": [
       "AIMessage(content=\"That's great! Programming can be incredibly rewarding and fun. What do you enjoy most about it?\", additional_kwargs={}, response_metadata={}, id='run-24ffba0a-e221-4c42-8651-4736a0b6d598-0')"
      ]
     },
     "execution_count": 58,
     "metadata": {},
     "output_type": "execute_result"
    }
   ],
   "source": [
    "from langchain_core.prompts import ChatPromptTemplate\n",
    "\n",
    "prompt = ChatPromptTemplate(\n",
    "    [\n",
    "        (\n",
    "            \"system\",\n",
    "            \"You are a helpful assistant that translates {input_language} to {output_language}.\",\n",
    "        ),\n",
    "        (\"human\", \"{input}\"),\n",
    "    ]\n",
    ")\n",
    "\n",
    "chain = prompt | llm\n",
    "chain.invoke(\n",
    "    {\n",
    "        \"input_language\": \"English\",\n",
    "        \"output_language\": \"German\",\n",
    "        \"input\": \"I love programming.\",\n",
    "    }\n",
    ")"
   ]
  },
  {
   "cell_type": "code",
   "execution_count": 59,
   "metadata": {},
   "outputs": [
    {
     "data": {
      "text/plain": [
       "'SiZWB5NOBZnGh1PJ2z343OerVw35QtR9'"
      ]
     },
     "execution_count": 59,
     "metadata": {},
     "output_type": "execute_result"
    }
   ],
   "source": [
    "key = os.getenv(\"AI21_API_KEY\")\n",
    "key"
   ]
  },
  {
   "cell_type": "code",
   "execution_count": 60,
   "metadata": {},
   "outputs": [],
   "source": [
    "from langchain_ai21.chat_models import ChatAI21\n",
    "\n",
    "from langchain_ai21 import ChatAI21\n",
    "from langchain.prompts import PromptTemplate\n",
    "from langchain.chains import LLMChain\n",
    "from langchain.chains import SequentialChain\n",
    "import PyPDF2\n"
   ]
  },
  {
   "cell_type": "code",
   "execution_count": 61,
   "metadata": {},
   "outputs": [],
   "source": [
    "Response_json={\n",
    "    \"1\":{\n",
    "        \"mcq\":\"multiple choice question\",\n",
    "        \"option\":{\n",
    "            \"a\":\"choice here\",\n",
    "            \"b\":\"choice here\",\n",
    "            \"c\":\"choice here\",\n",
    "            \"d\":\"choice here\"\n",
    "        },\n",
    "        \"correct_answer\":\"correct answer\"\n",
    "    },\n",
    "      \"2\":{\n",
    "        \"mcq\":\"multiple choice question\",\n",
    "        \"option\":{\n",
    "            \"a\":\"choice here\",\n",
    "            \"b\":\"choice here\",\n",
    "            \"c\":\"choice here\",\n",
    "            \"d\":\"choice here\"\n",
    "        },\n",
    "        \"correct_answer\":\"correct answer\"\n",
    "    },\n",
    "      \"3\":{\n",
    "        \"mcq\":\"multiple choice question\",\n",
    "        \"option\":{\n",
    "            \"a\":\"choice here\",\n",
    "            \"b\":\"choice here\",\n",
    "            \"c\":\"choice here\",\n",
    "            \"d\":\"choice here\"\n",
    "        },\n",
    "        \"correct_answer\":\"correct answer\"\n",
    "    },\n",
    "      \"4\":{\n",
    "        \"mcq\":\"multiple choice question\",\n",
    "        \"option\":{\n",
    "            \"a\":\"choice here\",\n",
    "            \"b\":\"choice here\",\n",
    "            \"c\":\"choice here\",\n",
    "            \"d\":\"choice here\"\n",
    "        },\n",
    "        \"correct_answer\":\"correct answer\"\n",
    "    },\n",
    "}"
   ]
  },
  {
   "cell_type": "code",
   "execution_count": 62,
   "metadata": {},
   "outputs": [],
   "source": [
    "Template=\"\"\"\n",
    "Text:{text}\n",
    "you are expert to create mcq makers :Given about text It is your job to create \\\n",
    "create quiz of {number}  multiple choice question for {subject} student in {tone} tone.\n",
    "Make sure all the question and answer are correct that are not repeated also.\n",
    "Make sure your reposnse are in the response_json belowe guide\n",
    "Ensure make {number} MCQS\n",
    "### reponse_json\n",
    "{response_json}\n",
    "\n",
    "\n",
    "\"\"\""
   ]
  },
  {
   "cell_type": "code",
   "execution_count": 63,
   "metadata": {},
   "outputs": [],
   "source": [
    "quiz_generation_prompt= PromptTemplate(\n",
    "    input_variables=[\"text\",\"number\",\"subject\",\"tone\",\"response_json\"],\n",
    "    template=Template\n",
    ")"
   ]
  },
  {
   "cell_type": "code",
   "execution_count": 64,
   "metadata": {},
   "outputs": [],
   "source": [
    "quiz_chain = LLMChain(llm=llm,prompt=quiz_generation_prompt,output_key=\"quiz\",verbose=True)"
   ]
  },
  {
   "cell_type": "code",
   "execution_count": 65,
   "metadata": {},
   "outputs": [],
   "source": [
    "template_2 = \"\"\"\n",
    "You are expert in english grammerian and writer. Give a multiple choice quiz {subject} ,\n",
    "student.you need to evalute the complextity of the question given the analysis add only 50 max word .\n",
    "if the quiz is not as per coginizitv and analytical abilities of the student.\n",
    "update the question which needs to change accoding to perfectly file and student abilities.quiz mcq\n",
    "{quiz}\n",
    "\n",
    "\"\"\""
   ]
  },
  {
   "cell_type": "code",
   "execution_count": 66,
   "metadata": {},
   "outputs": [],
   "source": [
    "quiz_evalution = PromptTemplate(input_variables=[\"subject\",\"quiz\"],template=Template) "
   ]
  },
  {
   "cell_type": "code",
   "execution_count": 67,
   "metadata": {},
   "outputs": [],
   "source": [
    "review_chain= LLMChain(llm=llm,prompt=quiz_evalution,output_key= \"review\",verbose=True)"
   ]
  },
  {
   "cell_type": "code",
   "execution_count": 68,
   "metadata": {},
   "outputs": [],
   "source": [
    "generate_chain = SequentialChain(\n",
    "    chains=[quiz_chain, review_chain],\n",
    "    input_variables=[\"text\", \"number\", \"subject\", \"tone\", \"response_json\"],  # Corrected spelling\n",
    "    output_variables=[\"quiz\", \"review\"],\n",
    "    verbose=True\n",
    ")\n"
   ]
  },
  {
   "cell_type": "code",
   "execution_count": 69,
   "metadata": {},
   "outputs": [
    {
     "name": "stdout",
     "output_type": "stream",
     "text": [
      "('Machine learning (ML) is a field of study in artificial intelligence concerned with the development and study of statistical algorithms that can learn from data and generalize to unseen data, and thus perform tasks without explicit instructions.[1] Within a subdiscipline in machine learning, advances in the field of deep learning have allowed neural networks, a class of statistical algorithms, to surpass many previous machine learning approaches in performance.[2]\\n\\nML finds application in many fields, including natural language processing, computer vision, speech recognition, email filtering, agriculture, and medicine.[3][4] The application of ML to business problems is known as predictive analytics.\\n\\nStatistics and mathematical optimization (mathematical programming) methods comprise the foundations of machine learning. Data mining is a related field of study, focusing on exploratory data analysis (EDA) via unsupervised learning.[6][7]\\n\\nFrom a theoretical viewpoint, probably approximately correct learning provides a framework for describing machine learning.\\n\\nHistory\\nSee also: Timeline of machine learning\\nThe term machine learning was coined in 1959 by Arthur Samuel, an IBM employee and pioneer in the field of computer gaming and artificial intelligence.[8][9] The synonym self-teaching computers was also used in this time period.[10][11]\\n\\nAlthough the earliest machine learning model was introduced in the 1950s when Arthur Samuel invented a program that calculated the winning chance in checkers for each side, the history of machine learning roots back to decades of human desire and effort to study human cognitive processes.[12] In 1949, Canadian psychologist Donald Hebb published the book The Organization of Behavior, in which he introduced a theoretical neural structure formed by certain interactions among nerve cells.[13] Hebb\\'s model of neurons interacting with one another set a groundwork for how AIs and machine learning algorithms work under nodes, or artificial neurons used by computers to communicate data.[12] Other researchers who have studied human cognitive systems contributed to the modern machine learning technologies as well, including logician Walter Pitts and Warren McCulloch, who proposed the early mathematical models of neural networks to come up with algorithms that mirror human thought processes.[12]\\n\\nBy the early 1960s, an experimental \"learning machine\" with punched tape memory, called Cybertron, had been developed by Raytheon Company to analyse sonar signals, electrocardiograms, and speech patterns using rudimentary reinforcement learning. It was repetitively \"trained\" by a human operator/teacher to recognize patterns and equipped with a \"goof\" button to cause it to reevaluate incorrect decisions.[14] A representative book on research into machine learning during the 1960s was Nilsson\\'s book on Learning Machines, dealing mostly with machine learning for pattern classification.[15] Interest related to pattern recognition continued into the 1970s, as described by Duda and Hart in 1973.[16] In 1981 a report was given on using teaching strategies so that an artificial neural network learns to recognize 40 characters (26 letters, 10 digits, and 4 special symbols) from a computer terminal.[17]\\n\\nTom M. Mitchell provided a widely quoted, more formal definition of the algorithms studied in the machine learning field: \"A computer program is said to learn from experience E with respect to some class of tasks T and performance measure P if its performance at tasks in T, as measured by P, improves with experience E.\"[18] This definition of the tasks in which machine learning is concerned offers a fundamentally operational definition rather than defining the field in cognitive terms. This follows Alan Turing\\'s proposal in his paper \"Computing Machinery and Intelligence\", in which the question \"Can machines think?\" is replaced with the question \"Can machines do what we (as thinking entities) can do?\".[19]\\n\\nModern-day machine learning has two objectives. One is to classify data based on models which have been developed; the other purpose is to make predictions for future outcomes based on these models. A hypothetical algorithm specific to classifying data may use computer vision of moles coupled with supervised learning in order to train it to classify the cancerous moles. A machine learning algorithm for stock trading may inform the trader of future potential predictions.[20]',)\n"
     ]
    }
   ],
   "source": [
    "file_path= r\"E:/llm_mcq_project/data.txt\"\n",
    "with open(file_path,'r') as file:\n",
    "    text = file.read(),\n",
    "print(text)"
   ]
  },
  {
   "cell_type": "code",
   "execution_count": 70,
   "metadata": {},
   "outputs": [
    {
     "data": {
      "text/plain": [
       "'{\"1\": {\"mcq\": \"multiple choice question\", \"option\": {\"a\": \"choice here\", \"b\": \"choice here\", \"c\": \"choice here\", \"d\": \"choice here\"}, \"correct_answer\": \"correct answer\"}, \"2\": {\"mcq\": \"multiple choice question\", \"option\": {\"a\": \"choice here\", \"b\": \"choice here\", \"c\": \"choice here\", \"d\": \"choice here\"}, \"correct_answer\": \"correct answer\"}, \"3\": {\"mcq\": \"multiple choice question\", \"option\": {\"a\": \"choice here\", \"b\": \"choice here\", \"c\": \"choice here\", \"d\": \"choice here\"}, \"correct_answer\": \"correct answer\"}, \"4\": {\"mcq\": \"multiple choice question\", \"option\": {\"a\": \"choice here\", \"b\": \"choice here\", \"c\": \"choice here\", \"d\": \"choice here\"}, \"correct_answer\": \"correct answer\"}}'"
      ]
     },
     "execution_count": 70,
     "metadata": {},
     "output_type": "execute_result"
    }
   ],
   "source": [
    "json.dumps(Response_json)"
   ]
  },
  {
   "cell_type": "code",
   "execution_count": 71,
   "metadata": {},
   "outputs": [
    {
     "name": "stdout",
     "output_type": "stream",
     "text": [
      "\n",
      "\n",
      "\u001b[1m> Entering new SequentialChain chain...\u001b[0m\n",
      "\n",
      "\n",
      "\u001b[1m> Entering new LLMChain chain...\u001b[0m\n",
      "Prompt after formatting:\n",
      "\u001b[32;1m\u001b[1;3m\n",
      "Text:('Machine learning (ML) is a field of study in artificial intelligence concerned with the development and study of statistical algorithms that can learn from data and generalize to unseen data, and thus perform tasks without explicit instructions.[1] Within a subdiscipline in machine learning, advances in the field of deep learning have allowed neural networks, a class of statistical algorithms, to surpass many previous machine learning approaches in performance.[2]\\n\\nML finds application in many fields, including natural language processing, computer vision, speech recognition, email filtering, agriculture, and medicine.[3][4] The application of ML to business problems is known as predictive analytics.\\n\\nStatistics and mathematical optimization (mathematical programming) methods comprise the foundations of machine learning. Data mining is a related field of study, focusing on exploratory data analysis (EDA) via unsupervised learning.[6][7]\\n\\nFrom a theoretical viewpoint, probably approximately correct learning provides a framework for describing machine learning.\\n\\nHistory\\nSee also: Timeline of machine learning\\nThe term machine learning was coined in 1959 by Arthur Samuel, an IBM employee and pioneer in the field of computer gaming and artificial intelligence.[8][9] The synonym self-teaching computers was also used in this time period.[10][11]\\n\\nAlthough the earliest machine learning model was introduced in the 1950s when Arthur Samuel invented a program that calculated the winning chance in checkers for each side, the history of machine learning roots back to decades of human desire and effort to study human cognitive processes.[12] In 1949, Canadian psychologist Donald Hebb published the book The Organization of Behavior, in which he introduced a theoretical neural structure formed by certain interactions among nerve cells.[13] Hebb\\'s model of neurons interacting with one another set a groundwork for how AIs and machine learning algorithms work under nodes, or artificial neurons used by computers to communicate data.[12] Other researchers who have studied human cognitive systems contributed to the modern machine learning technologies as well, including logician Walter Pitts and Warren McCulloch, who proposed the early mathematical models of neural networks to come up with algorithms that mirror human thought processes.[12]\\n\\nBy the early 1960s, an experimental \"learning machine\" with punched tape memory, called Cybertron, had been developed by Raytheon Company to analyse sonar signals, electrocardiograms, and speech patterns using rudimentary reinforcement learning. It was repetitively \"trained\" by a human operator/teacher to recognize patterns and equipped with a \"goof\" button to cause it to reevaluate incorrect decisions.[14] A representative book on research into machine learning during the 1960s was Nilsson\\'s book on Learning Machines, dealing mostly with machine learning for pattern classification.[15] Interest related to pattern recognition continued into the 1970s, as described by Duda and Hart in 1973.[16] In 1981 a report was given on using teaching strategies so that an artificial neural network learns to recognize 40 characters (26 letters, 10 digits, and 4 special symbols) from a computer terminal.[17]\\n\\nTom M. Mitchell provided a widely quoted, more formal definition of the algorithms studied in the machine learning field: \"A computer program is said to learn from experience E with respect to some class of tasks T and performance measure P if its performance at tasks in T, as measured by P, improves with experience E.\"[18] This definition of the tasks in which machine learning is concerned offers a fundamentally operational definition rather than defining the field in cognitive terms. This follows Alan Turing\\'s proposal in his paper \"Computing Machinery and Intelligence\", in which the question \"Can machines think?\" is replaced with the question \"Can machines do what we (as thinking entities) can do?\".[19]\\n\\nModern-day machine learning has two objectives. One is to classify data based on models which have been developed; the other purpose is to make predictions for future outcomes based on these models. A hypothetical algorithm specific to classifying data may use computer vision of moles coupled with supervised learning in order to train it to classify the cancerous moles. A machine learning algorithm for stock trading may inform the trader of future potential predictions.[20]',)\n",
      "you are expert to create mcq makers :Given about text It is your job to create create quiz of 5  multiple choice question for Science student in Neutral tone.\n",
      "Make sure all the question and answer are correct that are not repeated also.\n",
      "Make sure your reposnse are in the response_json belowe guide\n",
      "Ensure make 5 MCQS\n",
      "### reponse_json\n",
      "{\"1\": {\"mcq\": \"multiple choice question\", \"option\": {\"a\": \"choice here\", \"b\": \"choice here\", \"c\": \"choice here\", \"d\": \"choice here\"}, \"correct_answer\": \"correct answer\"}, \"2\": {\"mcq\": \"multiple choice question\", \"option\": {\"a\": \"choice here\", \"b\": \"choice here\", \"c\": \"choice here\", \"d\": \"choice here\"}, \"correct_answer\": \"correct answer\"}, \"3\": {\"mcq\": \"multiple choice question\", \"option\": {\"a\": \"choice here\", \"b\": \"choice here\", \"c\": \"choice here\", \"d\": \"choice here\"}, \"correct_answer\": \"correct answer\"}, \"4\": {\"mcq\": \"multiple choice question\", \"option\": {\"a\": \"choice here\", \"b\": \"choice here\", \"c\": \"choice here\", \"d\": \"choice here\"}, \"correct_answer\": \"correct answer\"}}\n",
      "\n",
      "\n",
      "\u001b[0m\n"
     ]
    },
    {
     "name": "stdout",
     "output_type": "stream",
     "text": [
      "\n",
      "\u001b[1m> Finished chain.\u001b[0m\n",
      "\n",
      "\n",
      "\u001b[1m> Entering new LLMChain chain...\u001b[0m\n",
      "Prompt after formatting:\n",
      "\u001b[32;1m\u001b[1;3m\n",
      "Text:('Machine learning (ML) is a field of study in artificial intelligence concerned with the development and study of statistical algorithms that can learn from data and generalize to unseen data, and thus perform tasks without explicit instructions.[1] Within a subdiscipline in machine learning, advances in the field of deep learning have allowed neural networks, a class of statistical algorithms, to surpass many previous machine learning approaches in performance.[2]\\n\\nML finds application in many fields, including natural language processing, computer vision, speech recognition, email filtering, agriculture, and medicine.[3][4] The application of ML to business problems is known as predictive analytics.\\n\\nStatistics and mathematical optimization (mathematical programming) methods comprise the foundations of machine learning. Data mining is a related field of study, focusing on exploratory data analysis (EDA) via unsupervised learning.[6][7]\\n\\nFrom a theoretical viewpoint, probably approximately correct learning provides a framework for describing machine learning.\\n\\nHistory\\nSee also: Timeline of machine learning\\nThe term machine learning was coined in 1959 by Arthur Samuel, an IBM employee and pioneer in the field of computer gaming and artificial intelligence.[8][9] The synonym self-teaching computers was also used in this time period.[10][11]\\n\\nAlthough the earliest machine learning model was introduced in the 1950s when Arthur Samuel invented a program that calculated the winning chance in checkers for each side, the history of machine learning roots back to decades of human desire and effort to study human cognitive processes.[12] In 1949, Canadian psychologist Donald Hebb published the book The Organization of Behavior, in which he introduced a theoretical neural structure formed by certain interactions among nerve cells.[13] Hebb\\'s model of neurons interacting with one another set a groundwork for how AIs and machine learning algorithms work under nodes, or artificial neurons used by computers to communicate data.[12] Other researchers who have studied human cognitive systems contributed to the modern machine learning technologies as well, including logician Walter Pitts and Warren McCulloch, who proposed the early mathematical models of neural networks to come up with algorithms that mirror human thought processes.[12]\\n\\nBy the early 1960s, an experimental \"learning machine\" with punched tape memory, called Cybertron, had been developed by Raytheon Company to analyse sonar signals, electrocardiograms, and speech patterns using rudimentary reinforcement learning. It was repetitively \"trained\" by a human operator/teacher to recognize patterns and equipped with a \"goof\" button to cause it to reevaluate incorrect decisions.[14] A representative book on research into machine learning during the 1960s was Nilsson\\'s book on Learning Machines, dealing mostly with machine learning for pattern classification.[15] Interest related to pattern recognition continued into the 1970s, as described by Duda and Hart in 1973.[16] In 1981 a report was given on using teaching strategies so that an artificial neural network learns to recognize 40 characters (26 letters, 10 digits, and 4 special symbols) from a computer terminal.[17]\\n\\nTom M. Mitchell provided a widely quoted, more formal definition of the algorithms studied in the machine learning field: \"A computer program is said to learn from experience E with respect to some class of tasks T and performance measure P if its performance at tasks in T, as measured by P, improves with experience E.\"[18] This definition of the tasks in which machine learning is concerned offers a fundamentally operational definition rather than defining the field in cognitive terms. This follows Alan Turing\\'s proposal in his paper \"Computing Machinery and Intelligence\", in which the question \"Can machines think?\" is replaced with the question \"Can machines do what we (as thinking entities) can do?\".[19]\\n\\nModern-day machine learning has two objectives. One is to classify data based on models which have been developed; the other purpose is to make predictions for future outcomes based on these models. A hypothetical algorithm specific to classifying data may use computer vision of moles coupled with supervised learning in order to train it to classify the cancerous moles. A machine learning algorithm for stock trading may inform the trader of future potential predictions.[20]',)\n",
      "you are expert to create mcq makers :Given about text It is your job to create create quiz of 5  multiple choice question for Science student in Neutral tone.\n",
      "Make sure all the question and answer are correct that are not repeated also.\n",
      "Make sure your reposnse are in the response_json belowe guide\n",
      "Ensure make 5 MCQS\n",
      "### reponse_json\n",
      "{\"1\": {\"mcq\": \"multiple choice question\", \"option\": {\"a\": \"choice here\", \"b\": \"choice here\", \"c\": \"choice here\", \"d\": \"choice here\"}, \"correct_answer\": \"correct answer\"}, \"2\": {\"mcq\": \"multiple choice question\", \"option\": {\"a\": \"choice here\", \"b\": \"choice here\", \"c\": \"choice here\", \"d\": \"choice here\"}, \"correct_answer\": \"correct answer\"}, \"3\": {\"mcq\": \"multiple choice question\", \"option\": {\"a\": \"choice here\", \"b\": \"choice here\", \"c\": \"choice here\", \"d\": \"choice here\"}, \"correct_answer\": \"correct answer\"}, \"4\": {\"mcq\": \"multiple choice question\", \"option\": {\"a\": \"choice here\", \"b\": \"choice here\", \"c\": \"choice here\", \"d\": \"choice here\"}, \"correct_answer\": \"correct answer\"}}\n",
      "\n",
      "\n",
      "\u001b[0m\n",
      "\n",
      "\u001b[1m> Finished chain.\u001b[0m\n",
      "\n",
      "\u001b[1m> Finished chain.\u001b[0m\n"
     ]
    }
   ],
   "source": [
    "input_data = {\n",
    "    \"text\": text,\n",
    "    \"number\": 5,  # Example value\n",
    "    \"subject\": \"Science\",  # Example subject\n",
    "    \"tone\": \"Neutral\",  # Example tone\n",
    "    \"response_json\": json.dumps(Response_json)  # Example empty dictionary\n",
    "}\n",
    "output = generate_chain.invoke(input_data)"
   ]
  },
  {
   "cell_type": "code",
   "execution_count": 72,
   "metadata": {},
   "outputs": [
    {
     "data": {
      "text/plain": [
       "{'text': ('Machine learning (ML) is a field of study in artificial intelligence concerned with the development and study of statistical algorithms that can learn from data and generalize to unseen data, and thus perform tasks without explicit instructions.[1] Within a subdiscipline in machine learning, advances in the field of deep learning have allowed neural networks, a class of statistical algorithms, to surpass many previous machine learning approaches in performance.[2]\\n\\nML finds application in many fields, including natural language processing, computer vision, speech recognition, email filtering, agriculture, and medicine.[3][4] The application of ML to business problems is known as predictive analytics.\\n\\nStatistics and mathematical optimization (mathematical programming) methods comprise the foundations of machine learning. Data mining is a related field of study, focusing on exploratory data analysis (EDA) via unsupervised learning.[6][7]\\n\\nFrom a theoretical viewpoint, probably approximately correct learning provides a framework for describing machine learning.\\n\\nHistory\\nSee also: Timeline of machine learning\\nThe term machine learning was coined in 1959 by Arthur Samuel, an IBM employee and pioneer in the field of computer gaming and artificial intelligence.[8][9] The synonym self-teaching computers was also used in this time period.[10][11]\\n\\nAlthough the earliest machine learning model was introduced in the 1950s when Arthur Samuel invented a program that calculated the winning chance in checkers for each side, the history of machine learning roots back to decades of human desire and effort to study human cognitive processes.[12] In 1949, Canadian psychologist Donald Hebb published the book The Organization of Behavior, in which he introduced a theoretical neural structure formed by certain interactions among nerve cells.[13] Hebb\\'s model of neurons interacting with one another set a groundwork for how AIs and machine learning algorithms work under nodes, or artificial neurons used by computers to communicate data.[12] Other researchers who have studied human cognitive systems contributed to the modern machine learning technologies as well, including logician Walter Pitts and Warren McCulloch, who proposed the early mathematical models of neural networks to come up with algorithms that mirror human thought processes.[12]\\n\\nBy the early 1960s, an experimental \"learning machine\" with punched tape memory, called Cybertron, had been developed by Raytheon Company to analyse sonar signals, electrocardiograms, and speech patterns using rudimentary reinforcement learning. It was repetitively \"trained\" by a human operator/teacher to recognize patterns and equipped with a \"goof\" button to cause it to reevaluate incorrect decisions.[14] A representative book on research into machine learning during the 1960s was Nilsson\\'s book on Learning Machines, dealing mostly with machine learning for pattern classification.[15] Interest related to pattern recognition continued into the 1970s, as described by Duda and Hart in 1973.[16] In 1981 a report was given on using teaching strategies so that an artificial neural network learns to recognize 40 characters (26 letters, 10 digits, and 4 special symbols) from a computer terminal.[17]\\n\\nTom M. Mitchell provided a widely quoted, more formal definition of the algorithms studied in the machine learning field: \"A computer program is said to learn from experience E with respect to some class of tasks T and performance measure P if its performance at tasks in T, as measured by P, improves with experience E.\"[18] This definition of the tasks in which machine learning is concerned offers a fundamentally operational definition rather than defining the field in cognitive terms. This follows Alan Turing\\'s proposal in his paper \"Computing Machinery and Intelligence\", in which the question \"Can machines think?\" is replaced with the question \"Can machines do what we (as thinking entities) can do?\".[19]\\n\\nModern-day machine learning has two objectives. One is to classify data based on models which have been developed; the other purpose is to make predictions for future outcomes based on these models. A hypothetical algorithm specific to classifying data may use computer vision of moles coupled with supervised learning in order to train it to classify the cancerous moles. A machine learning algorithm for stock trading may inform the trader of future potential predictions.[20]',),\n",
       " 'number': 5,\n",
       " 'subject': 'Science',\n",
       " 'tone': 'Neutral',\n",
       " 'response_json': '{\"1\": {\"mcq\": \"multiple choice question\", \"option\": {\"a\": \"choice here\", \"b\": \"choice here\", \"c\": \"choice here\", \"d\": \"choice here\"}, \"correct_answer\": \"correct answer\"}, \"2\": {\"mcq\": \"multiple choice question\", \"option\": {\"a\": \"choice here\", \"b\": \"choice here\", \"c\": \"choice here\", \"d\": \"choice here\"}, \"correct_answer\": \"correct answer\"}, \"3\": {\"mcq\": \"multiple choice question\", \"option\": {\"a\": \"choice here\", \"b\": \"choice here\", \"c\": \"choice here\", \"d\": \"choice here\"}, \"correct_answer\": \"correct answer\"}, \"4\": {\"mcq\": \"multiple choice question\", \"option\": {\"a\": \"choice here\", \"b\": \"choice here\", \"c\": \"choice here\", \"d\": \"choice here\"}, \"correct_answer\": \"correct answer\"}}',\n",
       " 'quiz': '```json\\n{\\n  \"1\": {\\n    \"mcq\": \"Machine learning is a field of study in artificial intelligence concerned with the development and study of statistical algorithms that can learn from data and generalize to unseen data, and thus perform tasks without explicit instructions.\",\\n    \"option\": {\\n      \"a\": \"True\",\\n      \"b\": \"False\"\\n    },\\n    \"correct_answer\": \"a\"\\n  },\\n  \"2\": {\\n    \"mcq\": \"What is a subdiscipline in machine learning that has seen advances allowing neural networks to surpass previous machine learning approaches in performance?\",\\n    \"option\": {\\n      \"a\": \"Deep learning\",\\n      \"b\": \"Reinforcement learning\",\\n      \"c\": \"Supervised learning\",\\n      \"d\": \"Unsupervised learning\"\\n    },\\n    \"correct_answer\": \"a\"\\n  },\\n  \"3\": {\\n    \"mcq\": \"Which field of study is machine learning most closely related to?\",\\n    \"option\": {\\n      \"a\": \"Data mining\",\\n      \"b\": \"Natural language processing\",\\n      \"c\": \"Computer vision\",\\n      \"d\": \"Speech recognition\"\\n    },\\n    \"correct_answer\": \"a\"\\n  },\\n  \"4\": {\\n    \"mcq\": \"Who coined the term \\'machine learning\\' in 1959?\",\\n    \"option\": {\\n      \"a\": \"Arthur Samuel\",\\n      \"b\": \"Donald Hebb\",\\n      \"c\": \"Raytheon Company\",\\n      \"d\": \"Alan Turing\"\\n    },\\n    \"correct_answer\": \"a\"\\n  },\\n  \"5\": {\\n    \"mcq\": \"What is the primary purpose of modern-day machine learning?\",\\n    \"option\": {\\n      \"a\": \"To classify data based on models which have been developed\",\\n      \"b\": \"To make predictions for future outcomes based on these models\",\\n      \"c\": \"To develop new statistical algorithms\",\\n      \"d\": \"To analyze sonar signals\"\\n    },\\n    \"correct_answer\": \"b\"\\n  }\\n}\\n```',\n",
       " 'review': '```json\\n{\\n  \"1\": {\\n    \"mcq\": \"Machine learning is a field of study in artificial intelligence concerned with the development and study of statistical algorithms that can learn from data and generalize to unseen data, and thus perform tasks without explicit instructions.\",\\n    \"option\": {\\n      \"a\": \"True\",\\n      \"b\": \"False\"\\n    },\\n    \"correct_answer\": \"a\"\\n  },\\n  \"2\": {\\n    \"mcq\": \"Within a subdiscipline in machine learning, advances in the field of deep learning have allowed neural networks, a class of statistical algorithms, to surpass many previous machine learning approaches in performance.\",\\n    \"option\": {\\n      \"a\": \"True\",\\n      \"b\": \"False\"\\n    },\\n    \"correct_answer\": \"a\"\\n  },\\n  \"3\": {\\n    \"mcq\": \"Which of the following fields does machine learning NOT find application in?\",\\n    \"option\": {\\n      \"a\": \"Natural language processing\",\\n      \"b\": \"Computer vision\",\\n      \"c\": \"Speech recognition\",\\n      \"d\": \"Astronomy\"\\n    },\\n    \"correct_answer\": \"d\"\\n  },\\n  \"4\": {\\n    \"mcq\": \"What is the term used to describe the application of machine learning to business problems?\",\\n    \"option\": {\\n      \"a\": \"Predictive analytics\",\\n      \"b\": \"Data mining\",\\n      \"c\": \"Supervised learning\",\\n      \"d\": \"Unsupervised learning\"\\n    },\\n    \"correct_answer\": \"a\"\\n  },\\n  \"5\": {\\n    \"mcq\": \"Who coined the term \\'machine learning\\' in 1959?\",\\n    \"option\": {\\n      \"a\": \"Arthur Samuel\",\\n      \"b\": \"Donald Hebb\",\\n      \"c\": \"Raytheon Company\",\\n      \"d\": \"Alan Turing\"\\n    },\\n    \"correct_answer\": \"a\"\\n  }\\n}\\n```'}"
      ]
     },
     "execution_count": 72,
     "metadata": {},
     "output_type": "execute_result"
    }
   ],
   "source": [
    "output"
   ]
  },
  {
   "cell_type": "code",
   "execution_count": 73,
   "metadata": {},
   "outputs": [
    {
     "name": "stdout",
     "output_type": "stream",
     "text": [
      "```json\n",
      "{\n",
      "  \"1\": {\n",
      "    \"mcq\": \"Machine learning is a field of study in artificial intelligence concerned with the development and study of statistical algorithms that can learn from data and generalize to unseen data, and thus perform tasks without explicit instructions.\",\n",
      "    \"option\": {\n",
      "      \"a\": \"True\",\n",
      "      \"b\": \"False\"\n",
      "    },\n",
      "    \"correct_answer\": \"a\"\n",
      "  },\n",
      "  \"2\": {\n",
      "    \"mcq\": \"What is a subdiscipline in machine learning that has seen advances allowing neural networks to surpass previous machine learning approaches in performance?\",\n",
      "    \"option\": {\n",
      "      \"a\": \"Deep learning\",\n",
      "      \"b\": \"Reinforcement learning\",\n",
      "      \"c\": \"Supervised learning\",\n",
      "      \"d\": \"Unsupervised learning\"\n",
      "    },\n",
      "    \"correct_answer\": \"a\"\n",
      "  },\n",
      "  \"3\": {\n",
      "    \"mcq\": \"Which field of study is machine learning most closely related to?\",\n",
      "    \"option\": {\n",
      "      \"a\": \"Data mining\",\n",
      "      \"b\": \"Natural language processing\",\n",
      "      \"c\": \"Computer vision\",\n",
      "      \"d\": \"Speech recognition\"\n",
      "    },\n",
      "    \"correct_answer\": \"a\"\n",
      "  },\n",
      "  \"4\": {\n",
      "    \"mcq\": \"Who coined the term 'machine learning' in 1959?\",\n",
      "    \"option\": {\n",
      "      \"a\": \"Arthur Samuel\",\n",
      "      \"b\": \"Donald Hebb\",\n",
      "      \"c\": \"Raytheon Company\",\n",
      "      \"d\": \"Alan Turing\"\n",
      "    },\n",
      "    \"correct_answer\": \"a\"\n",
      "  },\n",
      "  \"5\": {\n",
      "    \"mcq\": \"What is the primary purpose of modern-day machine learning?\",\n",
      "    \"option\": {\n",
      "      \"a\": \"To classify data based on models which have been developed\",\n",
      "      \"b\": \"To make predictions for future outcomes based on these models\",\n",
      "      \"c\": \"To develop new statistical algorithms\",\n",
      "      \"d\": \"To analyze sonar signals\"\n",
      "    },\n",
      "    \"correct_answer\": \"b\"\n",
      "  }\n",
      "}\n",
      "```\n"
     ]
    }
   ],
   "source": [
    "print(output.get('quiz'))"
   ]
  },
  {
   "cell_type": "code",
   "execution_count": 74,
   "metadata": {},
   "outputs": [
    {
     "name": "stdout",
     "output_type": "stream",
     "text": [
      "Quiz data: ```json\n",
      "{\n",
      "  \"1\": {\n",
      "    \"mcq\": \"Machine learning is a field of study in artificial intelligence concerned with the development and study of statistical algorithms that can learn from data and generalize to unseen data, and thus perform tasks without explicit instructions.\",\n",
      "    \"option\": {\n",
      "      \"a\": \"True\",\n",
      "      \"b\": \"False\"\n",
      "    },\n",
      "    \"correct_answer\": \"a\"\n",
      "  },\n",
      "  \"2\": {\n",
      "    \"mcq\": \"What is a subdiscipline in machine learning that has seen advances allowing neural networks to surpass previous machine learning approaches in performance?\",\n",
      "    \"option\": {\n",
      "      \"a\": \"Deep learning\",\n",
      "      \"b\": \"Reinforcement learning\",\n",
      "      \"c\": \"Supervised learning\",\n",
      "      \"d\": \"Unsupervised learning\"\n",
      "    },\n",
      "    \"correct_answer\": \"a\"\n",
      "  },\n",
      "  \"3\": {\n",
      "    \"mcq\": \"Which field of study is machine learning most closely related to?\",\n",
      "    \"option\": {\n",
      "      \"a\": \"Data mining\",\n",
      "      \"b\": \"Natural language processing\",\n",
      "      \"c\": \"Computer vision\",\n",
      "      \"d\": \"Speech recognition\"\n",
      "    },\n",
      "    \"correct_answer\": \"a\"\n",
      "  },\n",
      "  \"4\": {\n",
      "    \"mcq\": \"Who coined the term 'machine learning' in 1959?\",\n",
      "    \"option\": {\n",
      "      \"a\": \"Arthur Samuel\",\n",
      "      \"b\": \"Donald Hebb\",\n",
      "      \"c\": \"Raytheon Company\",\n",
      "      \"d\": \"Alan Turing\"\n",
      "    },\n",
      "    \"correct_answer\": \"a\"\n",
      "  },\n",
      "  \"5\": {\n",
      "    \"mcq\": \"What is the primary purpose of modern-day machine learning?\",\n",
      "    \"option\": {\n",
      "      \"a\": \"To classify data based on models which have been developed\",\n",
      "      \"b\": \"To make predictions for future outcomes based on these models\",\n",
      "      \"c\": \"To develop new statistical algorithms\",\n",
      "      \"d\": \"To analyze sonar signals\"\n",
      "    },\n",
      "    \"correct_answer\": \"b\"\n",
      "  }\n",
      "}\n",
      "```\n"
     ]
    }
   ],
   "source": [
    "quiz = output.get('quiz')\n",
    "print(f\"Quiz data: {quiz}\")  # Check what is being returned"
   ]
  },
  {
   "cell_type": "code",
   "execution_count": 75,
   "metadata": {},
   "outputs": [],
   "source": [
    "with open(\"quiz_output.json\", \"w\") as f:\n",
    "    f.write(output.get('quiz'))"
   ]
  },
  {
   "cell_type": "code",
   "execution_count": 76,
   "metadata": {},
   "outputs": [
    {
     "name": "stdout",
     "output_type": "stream",
     "text": [
      "Parsed JSON: {'1': {'mcq': 'Machine learning is a field of study in artificial intelligence concerned with the development and study of statistical algorithms that can learn from data and generalize to unseen data, and thus perform tasks without explicit instructions.', 'option': {'a': 'True', 'b': 'False'}, 'correct_answer': 'a'}, '2': {'mcq': 'What is a subdiscipline in machine learning that has seen advances allowing neural networks to surpass previous machine learning approaches in performance?', 'option': {'a': 'Deep learning', 'b': 'Reinforcement learning', 'c': 'Supervised learning', 'd': 'Unsupervised learning'}, 'correct_answer': 'a'}, '3': {'mcq': 'Which field of study is machine learning most closely related to?', 'option': {'a': 'Data mining', 'b': 'Natural language processing', 'c': 'Computer vision', 'd': 'Speech recognition'}, 'correct_answer': 'a'}, '4': {'mcq': \"Who coined the term 'machine learning' in 1959?\", 'option': {'a': 'Arthur Samuel', 'b': 'Donald Hebb', 'c': 'Raytheon Company', 'd': 'Alan Turing'}, 'correct_answer': 'a'}, '5': {'mcq': 'What is the primary purpose of modern-day machine learning?', 'option': {'a': 'To classify data based on models which have been developed', 'b': 'To make predictions for future outcomes based on these models', 'c': 'To develop new statistical algorithms', 'd': 'To analyze sonar signals'}, 'correct_answer': 'b'}}\n",
      "[{'MCQ': 'Machine learning is a field of study in artificial intelligence concerned with the development and study of statistical algorithms that can learn from data and generalize to unseen data, and thus perform tasks without explicit instructions.', 'Choices': 'a: True | b: False', 'Correct': 'a'}, {'MCQ': 'What is a subdiscipline in machine learning that has seen advances allowing neural networks to surpass previous machine learning approaches in performance?', 'Choices': 'a: Deep learning | b: Reinforcement learning | c: Supervised learning | d: Unsupervised learning', 'Correct': 'a'}, {'MCQ': 'Which field of study is machine learning most closely related to?', 'Choices': 'a: Data mining | b: Natural language processing | c: Computer vision | d: Speech recognition', 'Correct': 'a'}, {'MCQ': \"Who coined the term 'machine learning' in 1959?\", 'Choices': 'a: Arthur Samuel | b: Donald Hebb | c: Raytheon Company | d: Alan Turing', 'Correct': 'a'}, {'MCQ': 'What is the primary purpose of modern-day machine learning?', 'Choices': 'a: To classify data based on models which have been developed | b: To make predictions for future outcomes based on these models | c: To develop new statistical algorithms | d: To analyze sonar signals', 'Correct': 'b'}]\n"
     ]
    }
   ],
   "source": [
    "import json\n",
    "\n",
    "import json\n",
    "\n",
    "with open(\"quiz_output.json\", \"r\") as f:\n",
    "    raw_data = f.read()  # Read the entire content of the file\n",
    "    # Remove the markdown-style code block formatting\n",
    "    if raw_data.startswith(\"```json\") and raw_data.endswith(\"```\"):\n",
    "        raw_data = raw_data[7:-3].strip()  # Remove \"```json\\n\" from the start and \"```\" from the end\n",
    "    try:\n",
    "        quiz = json.loads(raw_data)  # Parse the cleaned JSON string\n",
    "        print(\"Parsed JSON:\", quiz)\n",
    "    except json.JSONDecodeError as e:\n",
    "        print(f\"Error parsing JSON: {e}\")\n",
    "quiz_table = []\n",
    "for key, value in quiz.items():\n",
    "    mcq = value[\"mcq\"]\n",
    "    option = \" | \".join(\n",
    "        [f\"{option}: {option_value}\" for option, option_value in value[\"option\"].items()]\n",
    "    )\n",
    "    correct = value[\"correct_answer\"]\n",
    "    quiz_table.append({\"MCQ\": mcq, \"Choices\": option, \"Correct\": correct})\n",
    "\n",
    "# Print the processed quiz table\n",
    "print(quiz_table)"
   ]
  },
  {
   "cell_type": "code",
   "execution_count": 77,
   "metadata": {},
   "outputs": [],
   "source": [
    "quiz= pd.DataFrame(quiz_table)"
   ]
  },
  {
   "cell_type": "code",
   "execution_count": 78,
   "metadata": {},
   "outputs": [],
   "source": [
    "quiz.to_csv('machine_learning_quiz.csv',index=False)"
   ]
  },
  {
   "cell_type": "code",
   "execution_count": 79,
   "metadata": {},
   "outputs": [
    {
     "data": {
      "text/plain": [
       "'03_29_2025_15_43_07'"
      ]
     },
     "execution_count": 79,
     "metadata": {},
     "output_type": "execute_result"
    }
   ],
   "source": [
    "from datetime import datetime\n",
    "\n",
    "f\"{datetime.now().strftime('%m_%d_%Y_%H_%M_%S')}\"\n"
   ]
  }
 ],
 "metadata": {
  "kernelspec": {
   "display_name": "Python 3",
   "language": "python",
   "name": "python3"
  },
  "language_info": {
   "codemirror_mode": {
    "name": "ipython",
    "version": 3
   },
   "file_extension": ".py",
   "mimetype": "text/x-python",
   "name": "python",
   "nbconvert_exporter": "python",
   "pygments_lexer": "ipython3",
   "version": "3.9.0"
  }
 },
 "nbformat": 4,
 "nbformat_minor": 2
}
